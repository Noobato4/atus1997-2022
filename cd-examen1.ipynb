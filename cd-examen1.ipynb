{
 "cells": [
  {
   "cell_type": "code",
   "execution_count": 1,
   "id": "12c70dcb",
   "metadata": {
    "_cell_guid": "b1076dfc-b9ad-4769-8c92-a6c4dae69d19",
    "_uuid": "8f2839f25d086af736a60e9eeb907d3b93b6e0e5",
    "execution": {
     "iopub.execute_input": "2024-04-06T23:54:29.177177Z",
     "iopub.status.busy": "2024-04-06T23:54:29.176256Z",
     "iopub.status.idle": "2024-04-06T23:54:30.119243Z",
     "shell.execute_reply": "2024-04-06T23:54:30.118037Z"
    },
    "papermill": {
     "duration": 0.955459,
     "end_time": "2024-04-06T23:54:30.122173",
     "exception": false,
     "start_time": "2024-04-06T23:54:29.166714",
     "status": "completed"
    },
    "tags": []
   },
   "outputs": [
    {
     "name": "stdout",
     "output_type": "stream",
     "text": [
      "/kaggle/input/dataset-gob-tarea/README.md\n",
      "/kaggle/input/dataset-gob-tarea/.DS_Store\n",
      "/kaggle/input/dataset-gob-tarea/input/atus_anual_2021.csv\n",
      "/kaggle/input/dataset-gob-tarea/input/atus_anual_2022.csv\n",
      "/kaggle/input/dataset-gob-tarea/input/atus_anual_2020.csv\n",
      "/kaggle/input/dataset-gob-tarea/input/.DS_Store\n"
     ]
    }
   ],
   "source": [
    "import numpy as np \n",
    "import pandas as pd \n",
    "import os\n",
    "for dirname, _, filenames in os.walk('/kaggle/input'):\n",
    "    for filename in filenames:\n",
    "        print(os.path.join(dirname, filename))"
   ]
  },
  {
   "cell_type": "markdown",
   "id": "9131dcfe",
   "metadata": {
    "papermill": {
     "duration": 0.005657,
     "end_time": "2024-04-06T23:54:30.134332",
     "exception": false,
     "start_time": "2024-04-06T23:54:30.128675",
     "status": "completed"
    },
    "tags": []
   },
   "source": [
    "## Cargue en un Dataframe los datos de los accidentes de los últimos 3 años"
   ]
  },
  {
   "cell_type": "code",
   "execution_count": 2,
   "id": "9267da41",
   "metadata": {
    "execution": {
     "iopub.execute_input": "2024-04-06T23:54:30.149686Z",
     "iopub.status.busy": "2024-04-06T23:54:30.148106Z",
     "iopub.status.idle": "2024-04-06T23:54:41.010768Z",
     "shell.execute_reply": "2024-04-06T23:54:41.009370Z"
    },
    "papermill": {
     "duration": 10.873717,
     "end_time": "2024-04-06T23:54:41.014017",
     "exception": false,
     "start_time": "2024-04-06T23:54:30.140300",
     "status": "completed"
    },
    "tags": []
   },
   "outputs": [
    {
     "name": "stdout",
     "output_type": "stream",
     "text": [
      "   COBERTURA  ID_ENTIDAD  ID_MUNICIPIO  ANIO  MES  ID_HORA  ID_MINUTO  ID_DIA  \\\n",
      "0  Municipal           1             1  2020    1        0          0       1   \n",
      "1  Municipal           1             1  2020    1        0          0       1   \n",
      "\n",
      "   DIASEMANA                     URBANA  ... PEATMUERTO PEATHERIDO  \\\n",
      "0  Miercoles  Accidente en intersección  ...          0          0   \n",
      "1  Miercoles  Accidente en intersección  ...          0          0   \n",
      "\n",
      "   CICLMUERTO  CICLHERIDO  OTROMUERTO  OTROHERIDO  NEMUERTO  NEHERIDO  \\\n",
      "0           0           0           0           0         0         0   \n",
      "1           0           0           0           0         0         0   \n",
      "\n",
      "      CLASACC             ESTATUS  \n",
      "0  Sólo daños  Cifras Definitivas  \n",
      "1  Sólo daños  Cifras Definitivas  \n",
      "\n",
      "[2 rows x 45 columns]\n"
     ]
    }
   ],
   "source": [
    "# Leer los archivos para luego unirlos, los primeros 2 tenian problemas con el indice\n",
    "df20 = pd.read_csv('/kaggle/input/dataset-gob-tarea/input/atus_anual_2020.csv', index_col=False)\n",
    "df21 = pd.read_csv('/kaggle/input/dataset-gob-tarea/input/atus_anual_2021.csv', index_col=False)\n",
    "df22 = pd.read_csv('/kaggle/input/dataset-gob-tarea/input/atus_anual_2022.csv')\n",
    "\n",
    "df = pd.concat([df20, df21, df22])\n",
    "\n",
    "# Verificar el resultado\n",
    "print(df.head(2))"
   ]
  },
  {
   "cell_type": "markdown",
   "id": "9facbde4",
   "metadata": {
    "papermill": {
     "duration": 0.006087,
     "end_time": "2024-04-06T23:54:41.026722",
     "exception": false,
     "start_time": "2024-04-06T23:54:41.020635",
     "status": "completed"
    },
    "tags": []
   },
   "source": [
    "## Agregue una columna tipo date que englobe las columnas correspondientes a Año, Mes, Dia, Hora y Minuto."
   ]
  },
  {
   "cell_type": "code",
   "execution_count": 3,
   "id": "112481f8",
   "metadata": {
    "execution": {
     "iopub.execute_input": "2024-04-06T23:54:41.043759Z",
     "iopub.status.busy": "2024-04-06T23:54:41.041171Z",
     "iopub.status.idle": "2024-04-06T23:54:41.048112Z",
     "shell.execute_reply": "2024-04-06T23:54:41.047184Z"
    },
    "papermill": {
     "duration": 0.017671,
     "end_time": "2024-04-06T23:54:41.050751",
     "exception": false,
     "start_time": "2024-04-06T23:54:41.033080",
     "status": "completed"
    },
    "tags": []
   },
   "outputs": [],
   "source": [
    "# Especificar qué columnas representan cada parte de la fecha y la hora\n",
    "#df['Fecha'] = pd.to_datetime(df[['ANIO', 'MES', 'ID_DIA','ID_HORA','ID_MINUTO']])\n",
    "\n",
    "# Seleccionar solo la columna 'Fecha'\n",
    "#sdf = df[['Fecha']]\n",
    "\n",
    "# Verificar el resultado\n",
    "#print(sdf.head())"
   ]
  },
  {
   "cell_type": "markdown",
   "id": "e7a2603b",
   "metadata": {
    "papermill": {
     "duration": 0.00602,
     "end_time": "2024-04-06T23:54:41.063140",
     "exception": false,
     "start_time": "2024-04-06T23:54:41.057120",
     "status": "completed"
    },
    "tags": []
   },
   "source": [
    "## Agregue una columna para Área cuyos valores serán Urbana o Suburbana dependiendo del área donde ocurrió el accidente."
   ]
  },
  {
   "cell_type": "code",
   "execution_count": 4,
   "id": "629c5c4d",
   "metadata": {
    "execution": {
     "iopub.execute_input": "2024-04-06T23:54:41.078931Z",
     "iopub.status.busy": "2024-04-06T23:54:41.077617Z",
     "iopub.status.idle": "2024-04-06T23:54:41.316380Z",
     "shell.execute_reply": "2024-04-06T23:54:41.315227Z"
    },
    "papermill": {
     "duration": 0.249865,
     "end_time": "2024-04-06T23:54:41.319346",
     "exception": false,
     "start_time": "2024-04-06T23:54:41.069481",
     "status": "completed"
    },
    "tags": []
   },
   "outputs": [
    {
     "name": "stdout",
     "output_type": "stream",
     "text": [
      "          Area\n",
      "0       Urbana\n",
      "1       Urbana\n",
      "2       Urbana\n",
      "3       Urbana\n",
      "4       Urbana\n",
      "..         ...\n",
      "116     Urbana\n",
      "117     Urbana\n",
      "118     Urbana\n",
      "119  Suburbana\n",
      "120     Urbana\n",
      "\n",
      "[121 rows x 1 columns]\n"
     ]
    }
   ],
   "source": [
    "#Crear la columna \"Área\" basada en las columnas \"URBANA\" y \"SUBURBANA\"\n",
    "#Establecer inicialmente todos los valores como \"Urbana\"\n",
    "df['Area'] = 'Urbana'  \n",
    "\n",
    "#si urbana tiene ese mensaja entonces el area es en suburbana\n",
    "df.loc[df['URBANA'] == 'Sin accidente en esta zona', 'Area'] = 'Suburbana' \n",
    "\n",
    "# Verificar el resultado\n",
    "print(df[['Area']].head(121))"
   ]
  },
  {
   "cell_type": "markdown",
   "id": "3791cac8",
   "metadata": {
    "papermill": {
     "duration": 0.006524,
     "end_time": "2024-04-06T23:54:41.332283",
     "exception": false,
     "start_time": "2024-04-06T23:54:41.325759",
     "status": "completed"
    },
    "tags": []
   },
   "source": [
    "## Elimine las columnas URBANA y SUBURBANA"
   ]
  },
  {
   "cell_type": "code",
   "execution_count": 5,
   "id": "e5bef9e3",
   "metadata": {
    "execution": {
     "iopub.execute_input": "2024-04-06T23:54:41.348060Z",
     "iopub.status.busy": "2024-04-06T23:54:41.346957Z",
     "iopub.status.idle": "2024-04-06T23:54:41.638987Z",
     "shell.execute_reply": "2024-04-06T23:54:41.637819Z"
    },
    "papermill": {
     "duration": 0.303041,
     "end_time": "2024-04-06T23:54:41.641769",
     "exception": false,
     "start_time": "2024-04-06T23:54:41.338728",
     "status": "completed"
    },
    "tags": []
   },
   "outputs": [
    {
     "name": "stdout",
     "output_type": "stream",
     "text": [
      "   COBERTURA  ID_ENTIDAD  ID_MUNICIPIO  ANIO  MES  ID_HORA  ID_MINUTO  ID_DIA  \\\n",
      "0  Municipal           1             1  2020    1        0          0       1   \n",
      "1  Municipal           1             1  2020    1        0          0       1   \n",
      "2  Municipal           1             1  2020    1        0         10       1   \n",
      "3  Municipal           1             1  2020    1        2          0       1   \n",
      "4  Municipal           1             1  2020    1        2         10       1   \n",
      "\n",
      "   DIASEMANA                         TIPACCID  ...  PEATHERIDO  CICLMUERTO  \\\n",
      "0  Miercoles  Colisión con vehículo automotor  ...           0           0   \n",
      "1  Miercoles         Colisión con objeto fijo  ...           0           0   \n",
      "2  Miercoles         Colisión con motocicleta  ...           0           0   \n",
      "3  Miercoles  Colisión con vehículo automotor  ...           0           0   \n",
      "4  Miercoles  Colisión con vehículo automotor  ...           0           0   \n",
      "\n",
      "   CICLHERIDO  OTROMUERTO  OTROHERIDO  NEMUERTO  NEHERIDO     CLASACC  \\\n",
      "0           0           0           0         0         0  Sólo daños   \n",
      "1           0           0           0         0         0  Sólo daños   \n",
      "2           0           0           0         0         0  Sólo daños   \n",
      "3           0           0           0         0         0  Sólo daños   \n",
      "4           0           0           0         0         0  Sólo daños   \n",
      "\n",
      "              ESTATUS    Area  \n",
      "0  Cifras Definitivas  Urbana  \n",
      "1  Cifras Definitivas  Urbana  \n",
      "2  Cifras Definitivas  Urbana  \n",
      "3  Cifras Definitivas  Urbana  \n",
      "4  Cifras Definitivas  Urbana  \n",
      "\n",
      "[5 rows x 44 columns]\n"
     ]
    }
   ],
   "source": [
    "df = df.drop(columns=['URBANA', 'SUBURBANA'])\n",
    "\n",
    "# Verificar el resultado\n",
    "print(df.head())"
   ]
  },
  {
   "cell_type": "markdown",
   "id": "8c407646",
   "metadata": {
    "papermill": {
     "duration": 0.006792,
     "end_time": "2024-04-06T23:54:41.655222",
     "exception": false,
     "start_time": "2024-04-06T23:54:41.648430",
     "status": "completed"
    },
    "tags": []
   },
   "source": [
    "## Determine cual municipio de cada estado tuvo más meses sin accidentes"
   ]
  },
  {
   "cell_type": "code",
   "execution_count": 6,
   "id": "75538235",
   "metadata": {
    "execution": {
     "iopub.execute_input": "2024-04-06T23:54:41.671014Z",
     "iopub.status.busy": "2024-04-06T23:54:41.670087Z",
     "iopub.status.idle": "2024-04-06T23:54:41.764900Z",
     "shell.execute_reply": "2024-04-06T23:54:41.763753Z"
    },
    "papermill": {
     "duration": 0.105788,
     "end_time": "2024-04-06T23:54:41.767601",
     "exception": false,
     "start_time": "2024-04-06T23:54:41.661813",
     "status": "completed"
    },
    "tags": []
   },
   "outputs": [
    {
     "name": "stdout",
     "output_type": "stream",
     "text": [
      "       ID_ENTIDAD  ID_MUNICIPIO  MES  count\n",
      "36              1             4    1      3\n",
      "157             2             3    2     29\n",
      "241             3             9    2     15\n",
      "384             4            12    1      1\n",
      "408             5             1    1      3\n",
      "928             6             6    5      3\n",
      "2460            7           125    1      1\n",
      "2496            8             3    1      3\n",
      "3099            9             8    4     17\n",
      "3228           10             3    6      1\n",
      "3589           11             6    1      3\n",
      "4429           12            31    1      1\n",
      "5017           13             1    1      3\n",
      "6040           14             2    4      3\n",
      "7526           15             1    2      1\n",
      "8830           16            29    1      2\n",
      "10270          17            36    1      2\n",
      "10378          18             9    1      1\n",
      "10522          19             1    1      3\n",
      "11134          20             1    1      3\n",
      "17974          21             1    1      3\n",
      "20722          22            13    1      3\n",
      "20907          23            10    6      8\n",
      "20926          24             1    1      3\n",
      "21668          25             4   11      3\n",
      "21838          26             1    1      3\n",
      "22802          27             9    5      3\n",
      "22907          28             1    2      3\n",
      "23422          29             1    1      3\n",
      "24142          30             1    1      3\n",
      "26722          31             7    1      3\n",
      "27358          32             1   10      1\n"
     ]
    }
   ],
   "source": [
    "# Agrupar por entidad, municipio y mes, y contar el número de registros para cada grupo\n",
    "agrupado = df.groupby(['ID_ENTIDAD', 'ID_MUNICIPIO', 'MES']).size().reset_index(name='count')\n",
    "\n",
    "# Encontrar el municipio de cada estado que tuvo la menor cantidad de registros \n",
    "municipio_con_menos_meses_por_estado = agrupado.loc[agrupado.groupby('ID_ENTIDAD')['count'].idxmin()]\n",
    "\n",
    "# Verificar el resultado\n",
    "print(municipio_con_menos_meses_por_estado)"
   ]
  },
  {
   "cell_type": "markdown",
   "id": "be8a0775",
   "metadata": {
    "papermill": {
     "duration": 0.006395,
     "end_time": "2024-04-06T23:54:41.780657",
     "exception": false,
     "start_time": "2024-04-06T23:54:41.774262",
     "status": "completed"
    },
    "tags": []
   },
   "source": [
    "## Resuma los accidentes del último año por tipo y que porcentaje representan"
   ]
  },
  {
   "cell_type": "code",
   "execution_count": 7,
   "id": "590e77e6",
   "metadata": {
    "execution": {
     "iopub.execute_input": "2024-04-06T23:54:41.796195Z",
     "iopub.status.busy": "2024-04-06T23:54:41.795753Z",
     "iopub.status.idle": "2024-04-06T23:54:44.691975Z",
     "shell.execute_reply": "2024-04-06T23:54:44.690858Z"
    },
    "papermill": {
     "duration": 2.907071,
     "end_time": "2024-04-06T23:54:44.694596",
     "exception": false,
     "start_time": "2024-04-06T23:54:41.787525",
     "status": "completed"
    },
    "tags": []
   },
   "outputs": [
    {
     "name": "stdout",
     "output_type": "stream",
     "text": [
      "                        Tipo de accidente  Cantidad  Porcentaje\n",
      "0         Colisión con vehículo automotor    229940   58.552112\n",
      "1                Colisión con motocicleta     53629   13.656133\n",
      "2                Colisión con objeto fijo     47033   11.976522\n",
      "3                        Certificado cero     15479    3.941585\n",
      "4   Colisión con peatón (atropellamiento)     11066    2.817855\n",
      "5                               Volcadura     10911    2.778386\n",
      "6                       Salida del camino     10857    2.764635\n",
      "7                                    Otro      6325    1.610603\n",
      "8                   Colisión con ciclista      4048    1.030786\n",
      "9                       Caída de pasajero      1784    0.454279\n",
      "10                    Colisión con animal      1022    0.260243\n",
      "11                               Incendio       348    0.088615\n",
      "12               Colisión con ferrocarril       268    0.068244\n"
     ]
    }
   ],
   "source": [
    "#usar solo el archivo del ultimo año\n",
    "df1 = pd.read_csv('/kaggle/input/dataset-gob-tarea/input/atus_anual_2022.csv')\n",
    "\n",
    "# Contar el número de accidentes por tipo\n",
    "resumen_accidentes = df1['TIPACCID'].value_counts().reset_index()\n",
    "resumen_accidentes.columns = ['Tipo de accidente', 'Cantidad']\n",
    "\n",
    "# Calcular el porcentaje que representa cada tipo de accidente en el total de accidentes\n",
    "total_accidentes = resumen_accidentes['Cantidad'].sum()\n",
    "resumen_accidentes['Porcentaje'] = (resumen_accidentes['Cantidad'] / total_accidentes) * 100\n",
    "\n",
    "# Verificar el resultado\n",
    "print(resumen_accidentes)"
   ]
  },
  {
   "cell_type": "markdown",
   "id": "08b83749",
   "metadata": {
    "papermill": {
     "duration": 0.006172,
     "end_time": "2024-04-06T23:54:44.707500",
     "exception": false,
     "start_time": "2024-04-06T23:54:44.701328",
     "status": "completed"
    },
    "tags": []
   },
   "source": [
    "## Obtenga la cantidad de muertos y lesionados de los últimos 3 años"
   ]
  },
  {
   "cell_type": "code",
   "execution_count": 8,
   "id": "c75853b5",
   "metadata": {
    "execution": {
     "iopub.execute_input": "2024-04-06T23:54:44.722293Z",
     "iopub.status.busy": "2024-04-06T23:54:44.721586Z",
     "iopub.status.idle": "2024-04-06T23:54:44.803496Z",
     "shell.execute_reply": "2024-04-06T23:54:44.802572Z"
    },
    "papermill": {
     "duration": 0.092373,
     "end_time": "2024-04-06T23:54:44.805953",
     "exception": false,
     "start_time": "2024-04-06T23:54:44.713580",
     "status": "completed"
    },
    "tags": []
   },
   "outputs": [
    {
     "name": "stdout",
     "output_type": "stream",
     "text": [
      "Cantidad de muertos en los últimos 3 años: 13408\n",
      "Cantidad de lesionados en los últimos 3 años: 245902\n"
     ]
    }
   ],
   "source": [
    "# Sumar las columnas que indican el número de muertos\n",
    "muertos = df[['CONDMUERTO', 'PASAMUERTO', 'PEATMUERTO', 'CICLMUERTO', 'OTROMUERTO', 'NEMUERTO']].sum().sum()\n",
    "\n",
    "# Sumar las columnas que indican el número de lesionados\n",
    "lesionados = df[['CONDHERIDO', 'PASAHERIDO', 'PEATHERIDO', 'CICLHERIDO', 'OTROHERIDO', 'NEHERIDO']].sum().sum()\n",
    "\n",
    "# Verificar el resultado\n",
    "print(\"Cantidad de muertos en los últimos 3 años:\", muertos)\n",
    "print(\"Cantidad de lesionados en los últimos 3 años:\", lesionados)"
   ]
  },
  {
   "cell_type": "markdown",
   "id": "e1490af6",
   "metadata": {
    "papermill": {
     "duration": 0.006546,
     "end_time": "2024-04-06T23:54:44.820645",
     "exception": false,
     "start_time": "2024-04-06T23:54:44.814099",
     "status": "completed"
    },
    "tags": []
   },
   "source": [
    "## Obtenga la cantidad de muertos y lesionados de los últimos 3 años"
   ]
  },
  {
   "cell_type": "code",
   "execution_count": 9,
   "id": "78b7e1fa",
   "metadata": {
    "execution": {
     "iopub.execute_input": "2024-04-06T23:54:44.837087Z",
     "iopub.status.busy": "2024-04-06T23:54:44.836324Z",
     "iopub.status.idle": "2024-04-06T23:54:44.861009Z",
     "shell.execute_reply": "2024-04-06T23:54:44.859870Z"
    },
    "papermill": {
     "duration": 0.035554,
     "end_time": "2024-04-06T23:54:44.863484",
     "exception": false,
     "start_time": "2024-04-06T23:54:44.827930",
     "status": "completed"
    },
    "tags": []
   },
   "outputs": [
    {
     "name": "stdout",
     "output_type": "stream",
     "text": [
      "Número de accidentes por año:\n",
      "ANIO\n",
      "2020    318046\n",
      "2021    356315\n",
      "2022    392710\n",
      "Name: count, dtype: int64\n",
      "\n",
      "Variación porcentual respecto al año anterior:\n",
      "ANIO\n",
      "2020     0.000000\n",
      "2021    12.032536\n",
      "2022    10.214277\n",
      "Name: count, dtype: float64\n"
     ]
    }
   ],
   "source": [
    "# Contar el número de accidentes por año\n",
    "accidentes_por_anio = df['ANIO'].value_counts().sort_index()\n",
    "\n",
    "# Calcular la variación porcentual entre cada par de años consecutivos\n",
    "variacion_porcentual = (accidentes_por_anio.pct_change() * 100).fillna(0)\n",
    "\n",
    "# Verificar el resultado\n",
    "print(\"Número de accidentes por año:\")\n",
    "print(accidentes_por_anio)\n",
    "print(\"\\nVariación porcentual respecto al año anterior:\")\n",
    "print(variacion_porcentual)"
   ]
  },
  {
   "cell_type": "markdown",
   "id": "5f215ce9",
   "metadata": {
    "papermill": {
     "duration": 0.006337,
     "end_time": "2024-04-06T23:54:44.876512",
     "exception": false,
     "start_time": "2024-04-06T23:54:44.870175",
     "status": "completed"
    },
    "tags": []
   },
   "source": [
    "## cada año los accidentes aumentan alrededor de un 10%."
   ]
  }
 ],
 "metadata": {
  "kaggle": {
   "accelerator": "none",
   "dataSources": [
    {
     "datasetId": 4735998,
     "sourceId": 8034347,
     "sourceType": "datasetVersion"
    }
   ],
   "dockerImageVersionId": 30673,
   "isGpuEnabled": false,
   "isInternetEnabled": false,
   "language": "python",
   "sourceType": "notebook"
  },
  "kernelspec": {
   "display_name": "Python 3",
   "language": "python",
   "name": "python3"
  },
  "language_info": {
   "codemirror_mode": {
    "name": "ipython",
    "version": 3
   },
   "file_extension": ".py",
   "mimetype": "text/x-python",
   "name": "python",
   "nbconvert_exporter": "python",
   "pygments_lexer": "ipython3",
   "version": "3.10.13"
  },
  "papermill": {
   "default_parameters": {},
   "duration": 19.939592,
   "end_time": "2024-04-06T23:54:45.706499",
   "environment_variables": {},
   "exception": null,
   "input_path": "__notebook__.ipynb",
   "output_path": "__notebook__.ipynb",
   "parameters": {},
   "start_time": "2024-04-06T23:54:25.766907",
   "version": "2.5.0"
  }
 },
 "nbformat": 4,
 "nbformat_minor": 5
}
